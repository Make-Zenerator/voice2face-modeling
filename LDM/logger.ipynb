{
  "nbformat": 4,
  "nbformat_minor": 0,
  "metadata": {
    "colab": {
      "provenance": []
    },
    "kernelspec": {
      "name": "python3",
      "display_name": "Python 3"
    },
    "language_info": {
      "name": "python"
    }
  },
  "cells": [
    {
      "cell_type": "code",
      "execution_count": 106,
      "metadata": {
        "id": "cV7_fowzqr5n"
      },
      "outputs": [],
      "source": [
        "import logging\n",
        "from logging import handlers\n",
        "import os\n",
        "import numpy as np\n",
        "# import wandb"
      ]
    },
    {
      "cell_type": "code",
      "source": [
        "def pretty(d, indent=0):\n",
        "    for key, value in d.items():\n",
        "        print(f\"{key}: {value}\")"
      ],
      "metadata": {
        "id": "5bagtdv4P55B"
      },
      "execution_count": 118,
      "outputs": []
    },
    {
      "cell_type": "code",
      "source": [
        "class MetricsLogger:\n",
        "    def __init__(self, wandb_config):\n",
        "        self.wandb_config = wandb_config\n",
        "\n",
        "        self.metrics_scores = [[[[0.0 for _ in range(5)] for _ in range(6)] for _ in range(6)] for _ in range(2)]\n",
        "        self.metrics_counter = [[[[0 for _ in range(5)] for _ in range(6)] for _ in range(6)] for _ in range(2)]\n",
        "\n",
        "        self.gender_map = {'m': 0, 'f': 1}\n",
        "        self.metrics_map = {0: 'psnr', 1: 'ssim', 2: 'mssim', 3: 'lpips', 4: 'fid'}\n",
        "        self.noise_map = {0: 'clean', 1: 'noise1', 2: 'noise2', 3: 'noise3', 4: 'noise4', 5: 'noise5'}\n",
        "\n",
        "    def set_idx(self, labels):\n",
        "        self.gender_idx = self.gender_map[labels['gender']]\n",
        "        self.age_idx = labels['age'] - 1\n",
        "        self.noise_idx = labels['noise'] - 1\n",
        "\n",
        "    def compute_metrics_scores(self):\n",
        "        avg_scores = [[[[0.0 for _ in range(5)] for _ in range(6)] for _ in range(6)] for _ in range(2)]\n",
        "        for i in range(2):\n",
        "            for j in range(6):\n",
        "                for k in range(6):\n",
        "                    for v in range(5):\n",
        "                        if self.metrics_counter[i][j][k][v] != 0:\n",
        "                            avg_scores[i][j][k][v] = self.metrics_scores[i][j][k][v] / self.metrics_counter[i][j][k][v]\n",
        "        return avg_scores\n",
        "\n",
        "    def append_metrics(self, batch_size, labels, metrics_scores):\n",
        "        for i in range(batch_size):\n",
        "            self.set_idx(labels[i])\n",
        "            # print(f\"gender idx : {self.gender_idx}\")\n",
        "            # print(f\"age idx : {self.age_idx}\")\n",
        "            # print(f\"noise idx : {self.noise_idx}\")\n",
        "            # print(f\"mterics scores : {metrics_scores[i]}\")\n",
        "            for idx, score in enumerate(metrics_scores[i]):\n",
        "                # print(idx)\n",
        "                # print(score)\n",
        "                # print(np.shape(self.metrics_scores))\n",
        "                # print(self.metrics_scores[self.gender_idx][self.age_idx][self.noise_idx][idx])\n",
        "                self.metrics_scores[self.gender_idx][self.age_idx][self.noise_idx][idx] += score\n",
        "                self.metrics_counter[self.gender_idx][self.age_idx][self.noise_idx][idx] += 1\n",
        "\n",
        "    def init_metrics_scores(self):\n",
        "        self.metrics_scores = [[[[[0.0 for _ in range(5)] for _ in range(6)] for _ in range(6)] for _ in range(2)]]\n",
        "        self.metrics_counter = [[[[[0 for _ in range(5)] for _ in range(6)] for _ in range(6)] for _ in range(2)]]\n",
        "\n",
        "    def wandb_logging(self, epoch):\n",
        "        avg_scores = self.compute_metrics_scores()\n",
        "        wandb_log = {}\n",
        "        for i in range(2):\n",
        "            for j in range(6):\n",
        "                for k in range(6):\n",
        "                    for v in range(5):\n",
        "                        if self.metrics_counter[i][j][k][v] != 0:\n",
        "                            name = f\"{list(self.gender_map.keys())[list(self.gender_map.values()).index(i)]}_{(j+1)*10}_{self.noise_map[k]}_{self.metrics_map[v]}\"\n",
        "                            value = avg_scores[i][j][k][v]\n",
        "                            wandb_log[name] = value\n",
        "        pretty(wandb_log)\n",
        "        # wandb.log(wandb_log)\n",
        "        self.init_metrics_scores()"
      ],
      "metadata": {
        "id": "wQPad1Y7q0iD"
      },
      "execution_count": 119,
      "outputs": []
    },
    {
      "cell_type": "code",
      "source": [
        "import random\n",
        "wandb_config = None\n",
        "new_logger = MetricsLogger(wandb_config)\n",
        "random_age, random_noise = [], []\n",
        "for i in range(10):\n",
        "    random_age.append(random.randint(1, 6))\n",
        "    random_noise.append(random.randint(1, 6))\n",
        "data = [{'gender': 'f', 'age': i, 'noise': j} for i, j in zip(random_age, random_noise)]\n",
        "\n",
        "# print(data)\n",
        "\n",
        "for row in data:\n",
        "    print(row)\n"
      ],
      "metadata": {
        "colab": {
          "base_uri": "https://localhost:8080/"
        },
        "id": "g_oT1XzWFRK3",
        "outputId": "9953750c-dd44-4db6-9ca2-2254171767c4"
      },
      "execution_count": 120,
      "outputs": [
        {
          "output_type": "stream",
          "name": "stdout",
          "text": [
            "{'gender': 'f', 'age': 5, 'noise': 5}\n",
            "{'gender': 'f', 'age': 3, 'noise': 3}\n",
            "{'gender': 'f', 'age': 4, 'noise': 2}\n",
            "{'gender': 'f', 'age': 2, 'noise': 4}\n",
            "{'gender': 'f', 'age': 3, 'noise': 1}\n",
            "{'gender': 'f', 'age': 2, 'noise': 5}\n",
            "{'gender': 'f', 'age': 2, 'noise': 2}\n",
            "{'gender': 'f', 'age': 3, 'noise': 4}\n",
            "{'gender': 'f', 'age': 5, 'noise': 3}\n",
            "{'gender': 'f', 'age': 5, 'noise': 2}\n"
          ]
        }
      ]
    },
    {
      "cell_type": "code",
      "source": [
        "rows, cols = 10, 5\n",
        "metrics_scores = [[random.uniform(0, 50) for _ in range(cols)] for _ in range(rows)]\n",
        "\n",
        "# print(metrics_scores)\n",
        "\n",
        "for row in metrics_scores:\n",
        "    print(row)"
      ],
      "metadata": {
        "colab": {
          "base_uri": "https://localhost:8080/"
        },
        "id": "X4QnV4-_GhDn",
        "outputId": "579a2e3e-15ca-47bc-8628-40fd0106b384"
      },
      "execution_count": 121,
      "outputs": [
        {
          "output_type": "stream",
          "name": "stdout",
          "text": [
            "[46.89977925114239, 44.57271738438848, 7.716705752368835, 29.21240533200785, 9.323768189698406]\n",
            "[29.152282830412407, 12.024466656785549, 48.09339765789273, 27.39663405586436, 26.079211157724725]\n",
            "[39.34440977135893, 8.509077739538395, 8.404255887173479, 16.203554446316065, 23.906856918352794]\n",
            "[43.45438877347952, 9.269233949617234, 36.80025195708633, 38.110003600814494, 3.959148129531026]\n",
            "[21.191750330994985, 48.81254189376028, 6.1223524652488255, 27.930990228314762, 25.741414744895092]\n",
            "[36.19104522805784, 26.791858713914813, 1.1524965382050667, 41.83750753106294, 8.01387612038727]\n",
            "[17.645881251504104, 7.0088928139286635, 8.75402168263102, 11.731568964763905, 33.53026165154181]\n",
            "[3.908747856600442, 49.6373119480884, 10.278073637563494, 24.750433737600886, 14.68299186500031]\n",
            "[21.187407306809114, 41.04792997002819, 29.436544408043837, 34.133326691378755, 37.08087890781607]\n",
            "[19.235924913043085, 42.75227375918209, 45.71744828673657, 28.12037297450059, 6.309455494198801]\n"
          ]
        }
      ]
    },
    {
      "cell_type": "code",
      "source": [
        "print(metrics_scores)"
      ],
      "metadata": {
        "colab": {
          "base_uri": "https://localhost:8080/"
        },
        "id": "3Lxg5mJNMiXc",
        "outputId": "b88ce8c7-4035-4ad2-d27e-b919cdefdfee"
      },
      "execution_count": 122,
      "outputs": [
        {
          "output_type": "stream",
          "name": "stdout",
          "text": [
            "[[46.89977925114239, 44.57271738438848, 7.716705752368835, 29.21240533200785, 9.323768189698406], [29.152282830412407, 12.024466656785549, 48.09339765789273, 27.39663405586436, 26.079211157724725], [39.34440977135893, 8.509077739538395, 8.404255887173479, 16.203554446316065, 23.906856918352794], [43.45438877347952, 9.269233949617234, 36.80025195708633, 38.110003600814494, 3.959148129531026], [21.191750330994985, 48.81254189376028, 6.1223524652488255, 27.930990228314762, 25.741414744895092], [36.19104522805784, 26.791858713914813, 1.1524965382050667, 41.83750753106294, 8.01387612038727], [17.645881251504104, 7.0088928139286635, 8.75402168263102, 11.731568964763905, 33.53026165154181], [3.908747856600442, 49.6373119480884, 10.278073637563494, 24.750433737600886, 14.68299186500031], [21.187407306809114, 41.04792997002819, 29.436544408043837, 34.133326691378755, 37.08087890781607], [19.235924913043085, 42.75227375918209, 45.71744828673657, 28.12037297450059, 6.309455494198801]]\n"
          ]
        }
      ]
    },
    {
      "cell_type": "code",
      "source": [
        "new_logger.append_metrics(10, data, metrics_scores)\n",
        "new_logger.wandb_logging(epoch=1)"
      ],
      "metadata": {
        "colab": {
          "base_uri": "https://localhost:8080/"
        },
        "id": "MesXzYX6G3sN",
        "outputId": "9c406ccb-f1dd-4742-dbf2-a6a106332d71"
      },
      "execution_count": 123,
      "outputs": [
        {
          "output_type": "stream",
          "name": "stdout",
          "text": [
            "f_20_noise1_psnr: 17.645881251504104\n",
            "f_20_noise1_ssim: 7.0088928139286635\n",
            "f_20_noise1_mssim: 8.75402168263102\n",
            "f_20_noise1_lpips: 11.731568964763905\n",
            "f_20_noise1_fid: 33.53026165154181\n",
            "f_20_noise3_psnr: 43.45438877347952\n",
            "f_20_noise3_ssim: 9.269233949617234\n",
            "f_20_noise3_mssim: 36.80025195708633\n",
            "f_20_noise3_lpips: 38.110003600814494\n",
            "f_20_noise3_fid: 3.959148129531026\n",
            "f_20_noise4_psnr: 36.19104522805784\n",
            "f_20_noise4_ssim: 26.791858713914813\n",
            "f_20_noise4_mssim: 1.1524965382050667\n",
            "f_20_noise4_lpips: 41.83750753106294\n",
            "f_20_noise4_fid: 8.01387612038727\n",
            "f_30_clean_psnr: 21.191750330994985\n",
            "f_30_clean_ssim: 48.81254189376028\n",
            "f_30_clean_mssim: 6.1223524652488255\n",
            "f_30_clean_lpips: 27.930990228314762\n",
            "f_30_clean_fid: 25.741414744895092\n",
            "f_30_noise2_psnr: 29.152282830412407\n",
            "f_30_noise2_ssim: 12.024466656785549\n",
            "f_30_noise2_mssim: 48.09339765789273\n",
            "f_30_noise2_lpips: 27.39663405586436\n",
            "f_30_noise2_fid: 26.079211157724725\n",
            "f_30_noise3_psnr: 3.908747856600442\n",
            "f_30_noise3_ssim: 49.6373119480884\n",
            "f_30_noise3_mssim: 10.278073637563494\n",
            "f_30_noise3_lpips: 24.750433737600886\n",
            "f_30_noise3_fid: 14.68299186500031\n",
            "f_40_noise1_psnr: 39.34440977135893\n",
            "f_40_noise1_ssim: 8.509077739538395\n",
            "f_40_noise1_mssim: 8.404255887173479\n",
            "f_40_noise1_lpips: 16.203554446316065\n",
            "f_40_noise1_fid: 23.906856918352794\n",
            "f_50_noise1_psnr: 19.235924913043085\n",
            "f_50_noise1_ssim: 42.75227375918209\n",
            "f_50_noise1_mssim: 45.71744828673657\n",
            "f_50_noise1_lpips: 28.12037297450059\n",
            "f_50_noise1_fid: 6.309455494198801\n",
            "f_50_noise2_psnr: 21.187407306809114\n",
            "f_50_noise2_ssim: 41.04792997002819\n",
            "f_50_noise2_mssim: 29.436544408043837\n",
            "f_50_noise2_lpips: 34.133326691378755\n",
            "f_50_noise2_fid: 37.08087890781607\n",
            "f_50_noise4_psnr: 46.89977925114239\n",
            "f_50_noise4_ssim: 44.57271738438848\n",
            "f_50_noise4_mssim: 7.716705752368835\n",
            "f_50_noise4_lpips: 29.21240533200785\n",
            "f_50_noise4_fid: 9.323768189698406\n"
          ]
        }
      ]
    },
    {
      "cell_type": "code",
      "source": [],
      "metadata": {
        "id": "zGSIu0GKJPY_"
      },
      "execution_count": 117,
      "outputs": []
    }
  ]
}